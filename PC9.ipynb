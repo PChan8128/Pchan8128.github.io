{
  "nbformat": 4,
  "nbformat_minor": 0,
  "metadata": {
    "colab": {
      "provenance": [],
      "include_colab_link": true
    },
    "kernelspec": {
      "name": "python3",
      "display_name": "Python 3"
    },
    "language_info": {
      "name": "python"
    }
  },
  "cells": [
    {
      "cell_type": "markdown",
      "metadata": {
        "id": "view-in-github",
        "colab_type": "text"
      },
      "source": [
        "<a href=\"https://colab.research.google.com/github/PChan8128/Pchan8128.github.io/blob/main/PC9.ipynb\" target=\"_parent\"><img src=\"https://colab.research.google.com/assets/colab-badge.svg\" alt=\"Open In Colab\"/></a>"
      ]
    },
    {
      "cell_type": "markdown",
      "source": [
        "ISM 6405 Assignment 1\n",
        "\n",
        "Parul Chauhan\n",
        "\n"
      ],
      "metadata": {
        "id": "vFXRUrL903AQ"
      }
    },
    {
      "cell_type": "markdown",
      "source": [
        "**Solution 1** Printing your full name in uppercase - 2 WAYS"
      ],
      "metadata": {
        "id": "dKQSKoRzThrU"
      }
    },
    {
      "cell_type": "code",
      "execution_count": null,
      "metadata": {
        "colab": {
          "base_uri": "https://localhost:8080/"
        },
        "id": "qptqpJ-kZti2",
        "outputId": "d9e08742-b32e-4217-ea0c-47168e7be6cb"
      },
      "outputs": [
        {
          "output_type": "stream",
          "name": "stdout",
          "text": [
            "Full Name: PARUL KUMARI CHAUHAN\n",
            "Full Name: PARUL KUMARI CHAUHAN\n"
          ]
        }
      ],
      "source": [
        "a=\"Parul\".upper()\n",
        "b=\"Kumari\".upper()\n",
        "c=\"Chauhan\".upper()\n",
        "print(\"Full Name:\",a+' '+b+' '+c)\n",
        "print(\"Full Name:\",a,b,c)"
      ]
    },
    {
      "cell_type": "markdown",
      "source": [
        "**Solution 2** Squaring odd numbers from 1 to 20"
      ],
      "metadata": {
        "id": "rAx11q2STLuO"
      }
    },
    {
      "cell_type": "code",
      "source": [
        "s=[]\n",
        "for n in range(1,20):\n",
        "  if ((n%2)==0):\n",
        "    continue\n",
        "  else:\n",
        "    s+=[n**2]\n",
        "print(s)"
      ],
      "metadata": {
        "colab": {
          "base_uri": "https://localhost:8080/"
        },
        "id": "DVk6WRRYKpEr",
        "outputId": "20fc2924-d4fa-4830-deaf-9f6e8d67444b"
      },
      "execution_count": null,
      "outputs": [
        {
          "output_type": "stream",
          "name": "stdout",
          "text": [
            "[1, 9, 25, 49, 81, 121, 169, 225, 289, 361]\n"
          ]
        }
      ]
    },
    {
      "cell_type": "markdown",
      "source": [
        "**Solution 3** Median and Standard deviation using statsitics package"
      ],
      "metadata": {
        "id": "NK_OeSMDSdQS"
      }
    },
    {
      "cell_type": "code",
      "source": [
        "import statistics\n",
        "print(\"Median is\",statistics.median(s))\n",
        "print(\"Standard deviation is\",round(statistics.stdev(s),2))\n"
      ],
      "metadata": {
        "colab": {
          "base_uri": "https://localhost:8080/"
        },
        "id": "ay5M9ACFMOhq",
        "outputId": "9d566c6f-258a-4883-c713-7411da22c779"
      },
      "execution_count": null,
      "outputs": [
        {
          "output_type": "stream",
          "name": "stdout",
          "text": [
            "Median is 101.0\n",
            "Standard deviation is 124.92\n"
          ]
        }
      ]
    },
    {
      "cell_type": "markdown",
      "source": [
        "**Solution 4** First part shows the output for 21 years or older . Second part shows the output for under 21."
      ],
      "metadata": {
        "id": "o14sPx5ORzbu"
      }
    },
    {
      "cell_type": "code",
      "source": [
        "age=int(input(\"Please enter your age: \"))\n",
        "if (age>=21) :\n",
        "  print(\"You were born in\",(2022-age))\n",
        "else:\n",
        "  print(\"You will turn\",(age+3),\"in 2025\")"
      ],
      "metadata": {
        "colab": {
          "base_uri": "https://localhost:8080/"
        },
        "id": "V8TB1eWONYm4",
        "outputId": "cf2520c5-9d74-48ce-96b3-734764ea249e"
      },
      "execution_count": null,
      "outputs": [
        {
          "output_type": "stream",
          "name": "stdout",
          "text": [
            "Please enter your age: 60\n",
            "You were born in 1962\n"
          ]
        }
      ]
    },
    {
      "cell_type": "code",
      "source": [
        "age=int(input(\"Please enter your age: \"))\n",
        "if (age>=21) :\n",
        "  print(\"You were born in \",(2022-age))\n",
        "else:\n",
        "  print(\"You will turn\",(age+3),\"in 2025\")"
      ],
      "metadata": {
        "colab": {
          "base_uri": "https://localhost:8080/"
        },
        "id": "othg770bRtPY",
        "outputId": "7992e66b-d9b5-4175-b368-d2f60b0252d0"
      },
      "execution_count": null,
      "outputs": [
        {
          "output_type": "stream",
          "name": "stdout",
          "text": [
            "Please enter your age: 18\n",
            "You will turn 21 in 2025\n"
          ]
        }
      ]
    }
  ]
}