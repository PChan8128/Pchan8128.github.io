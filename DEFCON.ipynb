{
  "nbformat": 4,
  "nbformat_minor": 0,
  "metadata": {
    "colab": {
      "provenance": [],
      "include_colab_link": true
    },
    "kernelspec": {
      "name": "python3",
      "display_name": "Python 3"
    }
  },
  "cells": [
    {
      "cell_type": "markdown",
      "metadata": {
        "id": "view-in-github",
        "colab_type": "text"
      },
      "source": [
        "<a href=\"https://colab.research.google.com/github/PChan8128/Pchan8128.github.io/blob/main/DEFCON.ipynb\" target=\"_parent\"><img src=\"https://colab.research.google.com/assets/colab-badge.svg\" alt=\"Open In Colab\"/></a>"
      ]
    },
    {
      "cell_type": "code",
      "metadata": {
        "id": "fGDYOMZPJeTb"
      },
      "source": [
        "import os\n",
        "import pandas as pd\n",
        "import numpy as np\n",
        "import seaborn as sns\n",
        "import matplotlib.pyplot as plt"
      ],
      "execution_count": null,
      "outputs": []
    },
    {
      "cell_type": "code",
      "metadata": {
        "id": "iASFOcfjKn74"
      },
      "source": [
        "from sklearn.linear_model import LogisticRegression\n",
        "from sklearn.svm import SVC\n",
        "from sklearn.neighbors import KNeighborsClassifier\n",
        "from sklearn.tree import DecisionTreeClassifier\n",
        "from sklearn.ensemble import RandomForestClassifier, AdaBoostClassifier, GradientBoostingClassifier, \\\n",
        "    ExtraTreesClassifier\n",
        "from sklearn.neural_network import MLPClassifier\n",
        "from sklearn.discriminant_analysis import LinearDiscriminantAnalysis\n",
        "from sklearn.metrics import mean_absolute_error,confusion_matrix,accuracy_score\n",
        "from sklearn import metrics\n",
        "from sklearn.metrics import plot_confusion_matrix\n",
        "from sklearn.model_selection import learning_curve\n",
        "from sklearn.model_selection import cross_val_score\n",
        "from sklearn.metrics import make_scorer, accuracy_score\n",
        "from sklearn.metrics import mean_squared_error\n",
        "from sklearn.model_selection import train_test_split"
      ],
      "execution_count": null,
      "outputs": []
    },
    {
      "cell_type": "code",
      "metadata": {
        "id": "4gzR0_kiJu4v",
        "colab": {
          "base_uri": "https://localhost:8080/"
        },
        "outputId": "0f9942a5-6c00-44b0-f371-9fc777d02870"
      },
      "source": [
        "from zipfile import ZipFile\n",
        "file_name = 'defcon.zip'\n",
        "\n",
        "with ZipFile(file_name,'r') as zip:\n",
        "  zip.extractall()\n",
        "  print(\"done\")"
      ],
      "execution_count": null,
      "outputs": [
        {
          "output_type": "stream",
          "text": [
            "done\n"
          ],
          "name": "stdout"
        }
      ]
    },
    {
      "cell_type": "code",
      "metadata": {
        "id": "5Cv1xfmBJvFG",
        "colab": {
          "base_uri": "https://localhost:8080/",
          "height": 215
        },
        "outputId": "0140c09e-3c98-444e-a284-f7096a5b3b2d"
      },
      "source": [
        "train = pd.read_csv('/content/Dataset/train.csv')\n",
        "train.head()\n"
      ],
      "execution_count": null,
      "outputs": [
        {
          "output_type": "execute_result",
          "data": {
            "text/html": [
              "<div>\n",
              "<style scoped>\n",
              "    .dataframe tbody tr th:only-of-type {\n",
              "        vertical-align: middle;\n",
              "    }\n",
              "\n",
              "    .dataframe tbody tr th {\n",
              "        vertical-align: top;\n",
              "    }\n",
              "\n",
              "    .dataframe thead th {\n",
              "        text-align: right;\n",
              "    }\n",
              "</style>\n",
              "<table border=\"1\" class=\"dataframe\">\n",
              "  <thead>\n",
              "    <tr style=\"text-align: right;\">\n",
              "      <th></th>\n",
              "      <th>Allied_Nations</th>\n",
              "      <th>Diplomatic_Meetings_Set</th>\n",
              "      <th>Percent_Of_Forces_Mobilized</th>\n",
              "      <th>Hostile_Nations</th>\n",
              "      <th>Active_Threats</th>\n",
              "      <th>Inactive_Threats</th>\n",
              "      <th>Citizen_Fear_Index</th>\n",
              "      <th>Closest_Threat_Distance(km)</th>\n",
              "      <th>Aircraft_Carriers_Responding</th>\n",
              "      <th>Troops_Mobilized(thousands)</th>\n",
              "      <th>DEFCON_Level</th>\n",
              "      <th>ID</th>\n",
              "    </tr>\n",
              "  </thead>\n",
              "  <tbody>\n",
              "    <tr>\n",
              "      <th>0</th>\n",
              "      <td>16</td>\n",
              "      <td>1</td>\n",
              "      <td>0.67</td>\n",
              "      <td>3</td>\n",
              "      <td>6.0</td>\n",
              "      <td>25.0</td>\n",
              "      <td>0.787812</td>\n",
              "      <td>324.36</td>\n",
              "      <td>1</td>\n",
              "      <td>862400.0</td>\n",
              "      <td>3</td>\n",
              "      <td>7570</td>\n",
              "    </tr>\n",
              "    <tr>\n",
              "      <th>1</th>\n",
              "      <td>8</td>\n",
              "      <td>1</td>\n",
              "      <td>0.11</td>\n",
              "      <td>2</td>\n",
              "      <td>38.0</td>\n",
              "      <td>48.0</td>\n",
              "      <td>0.419236</td>\n",
              "      <td>359.34</td>\n",
              "      <td>0</td>\n",
              "      <td>959200.0</td>\n",
              "      <td>4</td>\n",
              "      <td>12128</td>\n",
              "    </tr>\n",
              "    <tr>\n",
              "      <th>2</th>\n",
              "      <td>9</td>\n",
              "      <td>1</td>\n",
              "      <td>0.49</td>\n",
              "      <td>3</td>\n",
              "      <td>32.0</td>\n",
              "      <td>69.0</td>\n",
              "      <td>0.582232</td>\n",
              "      <td>332.84</td>\n",
              "      <td>1</td>\n",
              "      <td>836000.0</td>\n",
              "      <td>3</td>\n",
              "      <td>2181</td>\n",
              "    </tr>\n",
              "    <tr>\n",
              "      <th>3</th>\n",
              "      <td>7</td>\n",
              "      <td>0</td>\n",
              "      <td>0.30</td>\n",
              "      <td>2</td>\n",
              "      <td>31.0</td>\n",
              "      <td>52.0</td>\n",
              "      <td>0.589574</td>\n",
              "      <td>358.28</td>\n",
              "      <td>1</td>\n",
              "      <td>924000.0</td>\n",
              "      <td>3</td>\n",
              "      <td>5946</td>\n",
              "    </tr>\n",
              "    <tr>\n",
              "      <th>4</th>\n",
              "      <td>8</td>\n",
              "      <td>1</td>\n",
              "      <td>0.12</td>\n",
              "      <td>5</td>\n",
              "      <td>13.0</td>\n",
              "      <td>42.0</td>\n",
              "      <td>0.552863</td>\n",
              "      <td>364.64</td>\n",
              "      <td>0</td>\n",
              "      <td>968000.0</td>\n",
              "      <td>2</td>\n",
              "      <td>9054</td>\n",
              "    </tr>\n",
              "  </tbody>\n",
              "</table>\n",
              "</div>"
            ],
            "text/plain": [
              "   Allied_Nations  Diplomatic_Meetings_Set  ...  DEFCON_Level     ID\n",
              "0              16                        1  ...             3   7570\n",
              "1               8                        1  ...             4  12128\n",
              "2               9                        1  ...             3   2181\n",
              "3               7                        0  ...             3   5946\n",
              "4               8                        1  ...             2   9054\n",
              "\n",
              "[5 rows x 12 columns]"
            ]
          },
          "metadata": {
            "tags": []
          },
          "execution_count": 4
        }
      ]
    },
    {
      "cell_type": "code",
      "metadata": {
        "id": "LD6h2lzf5Xdq",
        "colab": {
          "base_uri": "https://localhost:8080/",
          "height": 34
        },
        "outputId": "eccf66a2-def9-4fb5-ff91-e2169bfb4fb6"
      },
      "source": [
        "train.shape"
      ],
      "execution_count": null,
      "outputs": [
        {
          "output_type": "execute_result",
          "data": {
            "text/plain": [
              "(10000, 12)"
            ]
          },
          "metadata": {
            "tags": []
          },
          "execution_count": 12
        }
      ]
    },
    {
      "cell_type": "code",
      "metadata": {
        "id": "h81vQGQoJvQh",
        "colab": {
          "base_uri": "https://localhost:8080/",
          "height": 215
        },
        "outputId": "638beaa2-cc0f-42bc-8007-ee5296a66363"
      },
      "source": [
        "test = pd.read_csv('/content/Dataset/test.csv')\n",
        "test.head()"
      ],
      "execution_count": null,
      "outputs": [
        {
          "output_type": "execute_result",
          "data": {
            "text/html": [
              "<div>\n",
              "<style scoped>\n",
              "    .dataframe tbody tr th:only-of-type {\n",
              "        vertical-align: middle;\n",
              "    }\n",
              "\n",
              "    .dataframe tbody tr th {\n",
              "        vertical-align: top;\n",
              "    }\n",
              "\n",
              "    .dataframe thead th {\n",
              "        text-align: right;\n",
              "    }\n",
              "</style>\n",
              "<table border=\"1\" class=\"dataframe\">\n",
              "  <thead>\n",
              "    <tr style=\"text-align: right;\">\n",
              "      <th></th>\n",
              "      <th>Allied_Nations</th>\n",
              "      <th>Diplomatic_Meetings_Set</th>\n",
              "      <th>Percent_Of_Forces_Mobilized</th>\n",
              "      <th>Hostile_Nations</th>\n",
              "      <th>Active_Threats</th>\n",
              "      <th>Inactive_Threats</th>\n",
              "      <th>Citizen_Fear_Index</th>\n",
              "      <th>Closest_Threat_Distance(km)</th>\n",
              "      <th>Aircraft_Carriers_Responding</th>\n",
              "      <th>Troops_Mobilized(thousands)</th>\n",
              "      <th>ID</th>\n",
              "    </tr>\n",
              "  </thead>\n",
              "  <tbody>\n",
              "    <tr>\n",
              "      <th>0</th>\n",
              "      <td>8</td>\n",
              "      <td>0</td>\n",
              "      <td>0.52</td>\n",
              "      <td>2</td>\n",
              "      <td>19.0</td>\n",
              "      <td>52.0</td>\n",
              "      <td>0.376652</td>\n",
              "      <td>319.06</td>\n",
              "      <td>1</td>\n",
              "      <td>976800.0</td>\n",
              "      <td>1</td>\n",
              "    </tr>\n",
              "    <tr>\n",
              "      <th>1</th>\n",
              "      <td>9</td>\n",
              "      <td>0</td>\n",
              "      <td>0.44</td>\n",
              "      <td>2</td>\n",
              "      <td>6.0</td>\n",
              "      <td>12.0</td>\n",
              "      <td>0.254772</td>\n",
              "      <td>351.92</td>\n",
              "      <td>1</td>\n",
              "      <td>1082400.0</td>\n",
              "      <td>10</td>\n",
              "    </tr>\n",
              "    <tr>\n",
              "      <th>2</th>\n",
              "      <td>8</td>\n",
              "      <td>0</td>\n",
              "      <td>0.44</td>\n",
              "      <td>3</td>\n",
              "      <td>7.0</td>\n",
              "      <td>18.0</td>\n",
              "      <td>0.472100</td>\n",
              "      <td>349.80</td>\n",
              "      <td>1</td>\n",
              "      <td>924000.0</td>\n",
              "      <td>14</td>\n",
              "    </tr>\n",
              "    <tr>\n",
              "      <th>3</th>\n",
              "      <td>10</td>\n",
              "      <td>0</td>\n",
              "      <td>0.39</td>\n",
              "      <td>2</td>\n",
              "      <td>3.0</td>\n",
              "      <td>13.0</td>\n",
              "      <td>0.478708</td>\n",
              "      <td>343.44</td>\n",
              "      <td>1</td>\n",
              "      <td>1003200.0</td>\n",
              "      <td>17</td>\n",
              "    </tr>\n",
              "    <tr>\n",
              "      <th>4</th>\n",
              "      <td>9</td>\n",
              "      <td>0</td>\n",
              "      <td>0.44</td>\n",
              "      <td>2</td>\n",
              "      <td>6.0</td>\n",
              "      <td>14.0</td>\n",
              "      <td>0.561674</td>\n",
              "      <td>346.62</td>\n",
              "      <td>1</td>\n",
              "      <td>924000.0</td>\n",
              "      <td>21</td>\n",
              "    </tr>\n",
              "  </tbody>\n",
              "</table>\n",
              "</div>"
            ],
            "text/plain": [
              "   Allied_Nations  Diplomatic_Meetings_Set  ...  Troops_Mobilized(thousands)  ID\n",
              "0               8                        0  ...                     976800.0   1\n",
              "1               9                        0  ...                    1082400.0  10\n",
              "2               8                        0  ...                     924000.0  14\n",
              "3              10                        0  ...                    1003200.0  17\n",
              "4               9                        0  ...                     924000.0  21\n",
              "\n",
              "[5 rows x 11 columns]"
            ]
          },
          "metadata": {
            "tags": []
          },
          "execution_count": 13
        }
      ]
    },
    {
      "cell_type": "code",
      "metadata": {
        "id": "pGHUal_O5cAt",
        "colab": {
          "base_uri": "https://localhost:8080/",
          "height": 34
        },
        "outputId": "c233deed-fc02-4667-e869-8c44b96290bc"
      },
      "source": [
        "test.shape"
      ],
      "execution_count": null,
      "outputs": [
        {
          "output_type": "execute_result",
          "data": {
            "text/plain": [
              "(2500, 11)"
            ]
          },
          "metadata": {
            "tags": []
          },
          "execution_count": 14
        }
      ]
    },
    {
      "cell_type": "code",
      "metadata": {
        "id": "zui-uVbNJvas",
        "colab": {
          "base_uri": "https://localhost:8080/",
          "height": 195
        },
        "outputId": "c89c35d0-5906-406f-b400-380456244d8e"
      },
      "source": [
        "sample_submission = pd.read_csv('/content/Dataset/sample_submission.csv')\n",
        "sample_submission.head()"
      ],
      "execution_count": null,
      "outputs": [
        {
          "output_type": "execute_result",
          "data": {
            "text/html": [
              "<div>\n",
              "<style scoped>\n",
              "    .dataframe tbody tr th:only-of-type {\n",
              "        vertical-align: middle;\n",
              "    }\n",
              "\n",
              "    .dataframe tbody tr th {\n",
              "        vertical-align: top;\n",
              "    }\n",
              "\n",
              "    .dataframe thead th {\n",
              "        text-align: right;\n",
              "    }\n",
              "</style>\n",
              "<table border=\"1\" class=\"dataframe\">\n",
              "  <thead>\n",
              "    <tr style=\"text-align: right;\">\n",
              "      <th></th>\n",
              "      <th>ID</th>\n",
              "      <th>DEFCON_Level</th>\n",
              "    </tr>\n",
              "  </thead>\n",
              "  <tbody>\n",
              "    <tr>\n",
              "      <th>0</th>\n",
              "      <td>1</td>\n",
              "      <td>0</td>\n",
              "    </tr>\n",
              "    <tr>\n",
              "      <th>1</th>\n",
              "      <td>10</td>\n",
              "      <td>1</td>\n",
              "    </tr>\n",
              "    <tr>\n",
              "      <th>2</th>\n",
              "      <td>14</td>\n",
              "      <td>2</td>\n",
              "    </tr>\n",
              "    <tr>\n",
              "      <th>3</th>\n",
              "      <td>17</td>\n",
              "      <td>3</td>\n",
              "    </tr>\n",
              "    <tr>\n",
              "      <th>4</th>\n",
              "      <td>21</td>\n",
              "      <td>0</td>\n",
              "    </tr>\n",
              "  </tbody>\n",
              "</table>\n",
              "</div>"
            ],
            "text/plain": [
              "   ID  DEFCON_Level\n",
              "0   1             0\n",
              "1  10             1\n",
              "2  14             2\n",
              "3  17             3\n",
              "4  21             0"
            ]
          },
          "metadata": {
            "tags": []
          },
          "execution_count": 15
        }
      ]
    },
    {
      "cell_type": "code",
      "metadata": {
        "id": "arZupl7KJvlF",
        "colab": {
          "base_uri": "https://localhost:8080/",
          "height": 118
        },
        "outputId": "76576f98-f381-4c41-a60e-8f9dfb310f91"
      },
      "source": [
        "print(train.DEFCON_Level.value_counts())"
      ],
      "execution_count": null,
      "outputs": [
        {
          "output_type": "stream",
          "text": [
            "2    4270\n",
            "3    3910\n",
            "4    1212\n",
            "1     498\n",
            "5     110\n",
            "Name: DEFCON_Level, dtype: int64\n"
          ],
          "name": "stdout"
        }
      ]
    },
    {
      "cell_type": "code",
      "metadata": {
        "id": "_xSUKZISJvuB",
        "colab": {
          "base_uri": "https://localhost:8080/",
          "height": 304
        },
        "outputId": "d7db8d6b-5348-4512-e496-ba62ee565c83"
      },
      "source": [
        "train.describe()"
      ],
      "execution_count": null,
      "outputs": [
        {
          "output_type": "execute_result",
          "data": {
            "text/html": [
              "<div>\n",
              "<style scoped>\n",
              "    .dataframe tbody tr th:only-of-type {\n",
              "        vertical-align: middle;\n",
              "    }\n",
              "\n",
              "    .dataframe tbody tr th {\n",
              "        vertical-align: top;\n",
              "    }\n",
              "\n",
              "    .dataframe thead th {\n",
              "        text-align: right;\n",
              "    }\n",
              "</style>\n",
              "<table border=\"1\" class=\"dataframe\">\n",
              "  <thead>\n",
              "    <tr style=\"text-align: right;\">\n",
              "      <th></th>\n",
              "      <th>Allied_Nations</th>\n",
              "      <th>Diplomatic_Meetings_Set</th>\n",
              "      <th>Percent_Of_Forces_Mobilized</th>\n",
              "      <th>Hostile_Nations</th>\n",
              "      <th>Active_Threats</th>\n",
              "      <th>Inactive_Threats</th>\n",
              "      <th>Citizen_Fear_Index</th>\n",
              "      <th>Closest_Threat_Distance(km)</th>\n",
              "      <th>Aircraft_Carriers_Responding</th>\n",
              "      <th>Troops_Mobilized(thousands)</th>\n",
              "      <th>DEFCON_Level</th>\n",
              "      <th>ID</th>\n",
              "    </tr>\n",
              "  </thead>\n",
              "  <tbody>\n",
              "    <tr>\n",
              "      <th>count</th>\n",
              "      <td>10000.000000</td>\n",
              "      <td>10000.000000</td>\n",
              "      <td>10000.000000</td>\n",
              "      <td>10000.00000</td>\n",
              "      <td>10000.000000</td>\n",
              "      <td>10000.000000</td>\n",
              "      <td>10000.000000</td>\n",
              "      <td>10000.000000</td>\n",
              "      <td>10000.000000</td>\n",
              "      <td>1.000000e+04</td>\n",
              "      <td>10000.000000</td>\n",
              "      <td>10000.000000</td>\n",
              "    </tr>\n",
              "    <tr>\n",
              "      <th>mean</th>\n",
              "      <td>8.317800</td>\n",
              "      <td>0.524100</td>\n",
              "      <td>0.270548</td>\n",
              "      <td>2.50230</td>\n",
              "      <td>15.754300</td>\n",
              "      <td>46.534600</td>\n",
              "      <td>0.486639</td>\n",
              "      <td>350.885758</td>\n",
              "      <td>0.891300</td>\n",
              "      <td>9.174874e+05</td>\n",
              "      <td>2.616600</td>\n",
              "      <td>6266.554200</td>\n",
              "    </tr>\n",
              "    <tr>\n",
              "      <th>std</th>\n",
              "      <td>1.748802</td>\n",
              "      <td>0.500244</td>\n",
              "      <td>0.196434</td>\n",
              "      <td>1.31178</td>\n",
              "      <td>10.388906</td>\n",
              "      <td>34.012649</td>\n",
              "      <td>0.134552</td>\n",
              "      <td>16.285744</td>\n",
              "      <td>0.329082</td>\n",
              "      <td>9.271764e+04</td>\n",
              "      <td>0.802788</td>\n",
              "      <td>3610.170288</td>\n",
              "    </tr>\n",
              "    <tr>\n",
              "      <th>min</th>\n",
              "      <td>5.000000</td>\n",
              "      <td>0.000000</td>\n",
              "      <td>0.000000</td>\n",
              "      <td>1.00000</td>\n",
              "      <td>1.000000</td>\n",
              "      <td>6.000000</td>\n",
              "      <td>0.000000</td>\n",
              "      <td>290.440000</td>\n",
              "      <td>0.000000</td>\n",
              "      <td>7.392000e+05</td>\n",
              "      <td>1.000000</td>\n",
              "      <td>2.000000</td>\n",
              "    </tr>\n",
              "    <tr>\n",
              "      <th>25%</th>\n",
              "      <td>7.000000</td>\n",
              "      <td>0.000000</td>\n",
              "      <td>0.090000</td>\n",
              "      <td>2.00000</td>\n",
              "      <td>7.000000</td>\n",
              "      <td>21.000000</td>\n",
              "      <td>0.406021</td>\n",
              "      <td>340.260000</td>\n",
              "      <td>1.000000</td>\n",
              "      <td>8.360000e+05</td>\n",
              "      <td>2.000000</td>\n",
              "      <td>3139.750000</td>\n",
              "    </tr>\n",
              "    <tr>\n",
              "      <th>50%</th>\n",
              "      <td>8.000000</td>\n",
              "      <td>1.000000</td>\n",
              "      <td>0.260000</td>\n",
              "      <td>2.00000</td>\n",
              "      <td>13.000000</td>\n",
              "      <td>37.000000</td>\n",
              "      <td>0.486784</td>\n",
              "      <td>350.860000</td>\n",
              "      <td>1.000000</td>\n",
              "      <td>8.976000e+05</td>\n",
              "      <td>3.000000</td>\n",
              "      <td>6280.500000</td>\n",
              "    </tr>\n",
              "    <tr>\n",
              "      <th>75%</th>\n",
              "      <td>9.000000</td>\n",
              "      <td>1.000000</td>\n",
              "      <td>0.430000</td>\n",
              "      <td>3.00000</td>\n",
              "      <td>21.000000</td>\n",
              "      <td>62.000000</td>\n",
              "      <td>0.567548</td>\n",
              "      <td>360.400000</td>\n",
              "      <td>1.000000</td>\n",
              "      <td>9.768000e+05</td>\n",
              "      <td>3.000000</td>\n",
              "      <td>9391.500000</td>\n",
              "    </tr>\n",
              "    <tr>\n",
              "      <th>max</th>\n",
              "      <td>16.000000</td>\n",
              "      <td>2.000000</td>\n",
              "      <td>1.000000</td>\n",
              "      <td>16.00000</td>\n",
              "      <td>72.000000</td>\n",
              "      <td>289.000000</td>\n",
              "      <td>1.000000</td>\n",
              "      <td>425.060000</td>\n",
              "      <td>2.000000</td>\n",
              "      <td>1.311200e+06</td>\n",
              "      <td>5.000000</td>\n",
              "      <td>12500.000000</td>\n",
              "    </tr>\n",
              "  </tbody>\n",
              "</table>\n",
              "</div>"
            ],
            "text/plain": [
              "       Allied_Nations  Diplomatic_Meetings_Set  ...  DEFCON_Level            ID\n",
              "count    10000.000000             10000.000000  ...  10000.000000  10000.000000\n",
              "mean         8.317800                 0.524100  ...      2.616600   6266.554200\n",
              "std          1.748802                 0.500244  ...      0.802788   3610.170288\n",
              "min          5.000000                 0.000000  ...      1.000000      2.000000\n",
              "25%          7.000000                 0.000000  ...      2.000000   3139.750000\n",
              "50%          8.000000                 1.000000  ...      3.000000   6280.500000\n",
              "75%          9.000000                 1.000000  ...      3.000000   9391.500000\n",
              "max         16.000000                 2.000000  ...      5.000000  12500.000000\n",
              "\n",
              "[8 rows x 12 columns]"
            ]
          },
          "metadata": {
            "tags": []
          },
          "execution_count": 17
        }
      ]
    },
    {
      "cell_type": "code",
      "metadata": {
        "id": "_pIlOcgkBvhI"
      },
      "source": [
        "train = train.fillna(' ')\n",
        "nan_rows = train[train.isnull().any(1)]"
      ],
      "execution_count": null,
      "outputs": []
    },
    {
      "cell_type": "code",
      "metadata": {
        "id": "mwTsIcPVJv5f"
      },
      "source": [
        "#Concat train and test. Drop \"ID\" column and split train data\n",
        "data = pd.concat([train, test], axis=0)   #concat train and test\n",
        "\n",
        "data = data.drop(columns = ['ID'])\n",
        "# Retrieve data from the train set\n",
        "X = data[:10000].drop(columns=['DEFCON_Level'])\n",
        "# Retrieve label from train set\n",
        "y = data[:10000].DEFCON_Level\n",
        "# Retrieve data from test set\n",
        "X_test = data[10000:].drop(columns=['DEFCON_Level'])\n",
        "# split train file into train set (0.75) and valid set (0.25). The valid set is used to evaluate the model on the train set\n",
        "X_train, X_valid, y_train, y_valid = train_test_split(X, y, test_size=0.25, random_state=42)"
      ],
      "execution_count": null,
      "outputs": []
    },
    {
      "cell_type": "code",
      "metadata": {
        "id": "LveWP0i_VatM",
        "colab": {
          "base_uri": "https://localhost:8080/",
          "height": 50
        },
        "outputId": "0b73df28-5395-4ce6-96c1-ffe998f07aea"
      },
      "source": [
        "print(\"Number of data points in train data:\",X_train.shape)\n",
        "print(\"Number of data points in test data:\",X_valid.shape)"
      ],
      "execution_count": null,
      "outputs": [
        {
          "output_type": "stream",
          "text": [
            "Number of data points in train data: (7500, 10)\n",
            "Number of data points in test data: (2500, 10)\n"
          ],
          "name": "stdout"
        }
      ]
    },
    {
      "cell_type": "code",
      "metadata": {
        "id": "M_fmPe-2JwCo",
        "colab": {
          "base_uri": "https://localhost:8080/",
          "height": 404
        },
        "outputId": "a0c8f575-9c54-476b-d98f-8df9f49c95dd"
      },
      "source": [
        "def feature_importances():\n",
        "    for c in data.columns[data.dtypes == 'object']:\n",
        "        X_train[c] = X_train[c].factorize()[0]\n",
        "    rf = RandomForestClassifier()\n",
        "    rf.fit(X_train, y_train)\n",
        "    plt.plot(rf.feature_importances_)\n",
        "    plt.xticks(np.arange(X_train.shape[1]), X_train.columns.tolist(), rotation=90)\n",
        "    plt.show()\n",
        "\n",
        "feature_importances()"
      ],
      "execution_count": null,
      "outputs": [
        {
          "output_type": "display_data",
          "data": {
            "image/png": "[encoded data removed]",
            "text/plain": [
              "<Figure size 432x288 with 1 Axes>"
            ]
          },
          "metadata": {
            "tags": [],
            "needs_background": "light"
          }
        }
      ]
    },
    {
      "cell_type": "code",
      "metadata": {
        "id": "-aokqeDiJwMD",
        "colab": {
          "base_uri": "https://localhost:8080/",
          "height": 258
        },
        "outputId": "d9f652ed-14f1-4c3b-cb3c-35f5a4c278f9"
      },
      "source": [
        "corr = X.corr()\n",
        "corr.style.background_gradient(cmap='coolwarm')"
      ],
      "execution_count": null,
      "outputs": [
        {
          "output_type": "execute_result",
          "data": {
            "text/html": [
              "<style  type=\"text/css\" >\n",
              "    #T_b4ac9314_d882_11ea_87aa_0242ac1c0002row0_col0 {\n",
              "            background-color:  #b40426;\n",
              "            color:  #f1f1f1;\n",
              "        }    #T_b4ac9314_d882_11ea_87aa_0242ac1c0002row0_col1 {\n",
              "            background-color:  #779af7;\n",
              "            color:  #000000;\n",
              "        }    #T_b4ac9314_d882_11ea_87aa_0242ac1c0002row0_col2 {\n",
              "            background-color:  #f18d6f;\n",
              "            color:  #000000;\n",
              "        }    #T_b4ac9314_d882_11ea_87aa_0242ac1c0002row0_col3 {\n",
              "            background-color:  #7396f5;\n",
              "            color:  #000000;\n",
              "        }    #T_b4ac9314_d882_11ea_87aa_0242ac1c0002row0_col4 {\n",
              "            background-color:  #3b4cc0;\n",
              "            color:  #f1f1f1;\n",
              "        }    #T_b4ac9314_d882_11ea_87aa_0242ac1c0002row0_col5 {\n",
              "            background-color:  #6384eb;\n",
              "            color:  #000000;\n",
              "        }    #T_b4ac9314_d882_11ea_87aa_0242ac1c0002row0_col6 {\n",
              "            background-color:  #f39475;\n",
              "            color:  #000000;\n",
              "        }    #T_b4ac9314_d882_11ea_87aa_0242ac1c0002row0_col7 {\n",
              "            background-color:  #3b4cc0;\n",
              "            color:  #f1f1f1;\n",
              "        }    #T_b4ac9314_d882_11ea_87aa_0242ac1c0002row0_col8 {\n",
              "            background-color:  #7597f6;\n",
              "            color:  #000000;\n",
              "        }    #T_b4ac9314_d882_11ea_87aa_0242ac1c0002row0_col9 {\n",
              "            background-color:  #8fb1fe;\n",
              "            color:  #000000;\n",
              "        }    #T_b4ac9314_d882_11ea_87aa_0242ac1c0002row1_col0 {\n",
              "            background-color:  #86a9fc;\n",
              "            color:  #000000;\n",
              "        }    #T_b4ac9314_d882_11ea_87aa_0242ac1c0002row1_col1 {\n",
              "            background-color:  #b40426;\n",
              "            color:  #f1f1f1;\n",
              "        }    #T_b4ac9314_d882_11ea_87aa_0242ac1c0002row1_col2 {\n",
              "            background-color:  #3b4cc0;\n",
              "            color:  #f1f1f1;\n",
              "        }    #T_b4ac9314_d882_11ea_87aa_0242ac1c0002row1_col3 {\n",
              "            background-color:  #465ecf;\n",
              "            color:  #f1f1f1;\n",
              "        }    #T_b4ac9314_d882_11ea_87aa_0242ac1c0002row1_col4 {\n",
              "            background-color:  #5f7fe8;\n",
              "            color:  #000000;\n",
              "        }    #T_b4ac9314_d882_11ea_87aa_0242ac1c0002row1_col5 {\n",
              "            background-color:  #90b2fe;\n",
              "            color:  #000000;\n",
              "        }    #T_b4ac9314_d882_11ea_87aa_0242ac1c0002row1_col6 {\n",
              "            background-color:  #a2c1ff;\n",
              "            color:  #000000;\n",
              "        }    #T_b4ac9314_d882_11ea_87aa_0242ac1c0002row1_col7 {\n",
              "            background-color:  #e8d6cc;\n",
              "            color:  #000000;\n",
              "        }    #T_b4ac9314_d882_11ea_87aa_0242ac1c0002row1_col8 {\n",
              "            background-color:  #3b4cc0;\n",
              "            color:  #f1f1f1;\n",
              "        }    #T_b4ac9314_d882_11ea_87aa_0242ac1c0002row1_col9 {\n",
              "            background-color:  #7a9df8;\n",
              "            color:  #000000;\n",
              "        }    #T_b4ac9314_d882_11ea_87aa_0242ac1c0002row2_col0 {\n",
              "            background-color:  #ef886b;\n",
              "            color:  #000000;\n",
              "        }    #T_b4ac9314_d882_11ea_87aa_0242ac1c0002row2_col1 {\n",
              "            background-color:  #3b4cc0;\n",
              "            color:  #f1f1f1;\n",
              "        }    #T_b4ac9314_d882_11ea_87aa_0242ac1c0002row2_col2 {\n",
              "            background-color:  #b40426;\n",
              "            color:  #f1f1f1;\n",
              "        }    #T_b4ac9314_d882_11ea_87aa_0242ac1c0002row2_col3 {\n",
              "            background-color:  #80a3fa;\n",
              "            color:  #000000;\n",
              "        }    #T_b4ac9314_d882_11ea_87aa_0242ac1c0002row2_col4 {\n",
              "            background-color:  #4f69d9;\n",
              "            color:  #000000;\n",
              "        }    #T_b4ac9314_d882_11ea_87aa_0242ac1c0002row2_col5 {\n",
              "            background-color:  #85a8fc;\n",
              "            color:  #000000;\n",
              "        }    #T_b4ac9314_d882_11ea_87aa_0242ac1c0002row2_col6 {\n",
              "            background-color:  #edd2c3;\n",
              "            color:  #000000;\n",
              "        }    #T_b4ac9314_d882_11ea_87aa_0242ac1c0002row2_col7 {\n",
              "            background-color:  #5470de;\n",
              "            color:  #000000;\n",
              "        }    #T_b4ac9314_d882_11ea_87aa_0242ac1c0002row2_col8 {\n",
              "            background-color:  #8caffe;\n",
              "            color:  #000000;\n",
              "        }    #T_b4ac9314_d882_11ea_87aa_0242ac1c0002row2_col9 {\n",
              "            background-color:  #bcd2f7;\n",
              "            color:  #000000;\n",
              "        }    #T_b4ac9314_d882_11ea_87aa_0242ac1c0002row3_col0 {\n",
              "            background-color:  #d4dbe6;\n",
              "            color:  #000000;\n",
              "        }    #T_b4ac9314_d882_11ea_87aa_0242ac1c0002row3_col1 {\n",
              "            background-color:  #adc9fd;\n",
              "            color:  #000000;\n",
              "        }    #T_b4ac9314_d882_11ea_87aa_0242ac1c0002row3_col2 {\n",
              "            background-color:  #d2dbe8;\n",
              "            color:  #000000;\n",
              "        }    #T_b4ac9314_d882_11ea_87aa_0242ac1c0002row3_col3 {\n",
              "            background-color:  #b40426;\n",
              "            color:  #f1f1f1;\n",
              "        }    #T_b4ac9314_d882_11ea_87aa_0242ac1c0002row3_col4 {\n",
              "            background-color:  #86a9fc;\n",
              "            color:  #000000;\n",
              "        }    #T_b4ac9314_d882_11ea_87aa_0242ac1c0002row3_col5 {\n",
              "            background-color:  #b5cdfa;\n",
              "            color:  #000000;\n",
              "        }    #T_b4ac9314_d882_11ea_87aa_0242ac1c0002row3_col6 {\n",
              "            background-color:  #e5d8d1;\n",
              "            color:  #000000;\n",
              "        }    #T_b4ac9314_d882_11ea_87aa_0242ac1c0002row3_col7 {\n",
              "            background-color:  #b1cbfc;\n",
              "            color:  #000000;\n",
              "        }    #T_b4ac9314_d882_11ea_87aa_0242ac1c0002row3_col8 {\n",
              "            background-color:  #5673e0;\n",
              "            color:  #000000;\n",
              "        }    #T_b4ac9314_d882_11ea_87aa_0242ac1c0002row3_col9 {\n",
              "            background-color:  #afcafc;\n",
              "            color:  #000000;\n",
              "        }    #T_b4ac9314_d882_11ea_87aa_0242ac1c0002row4_col0 {\n",
              "            background-color:  #aac7fd;\n",
              "            color:  #000000;\n",
              "        }    #T_b4ac9314_d882_11ea_87aa_0242ac1c0002row4_col1 {\n",
              "            background-color:  #b9d0f9;\n",
              "            color:  #000000;\n",
              "        }    #T_b4ac9314_d882_11ea_87aa_0242ac1c0002row4_col2 {\n",
              "            background-color:  #adc9fd;\n",
              "            color:  #000000;\n",
              "        }    #T_b4ac9314_d882_11ea_87aa_0242ac1c0002row4_col3 {\n",
              "            background-color:  #80a3fa;\n",
              "            color:  #000000;\n",
              "        }    #T_b4ac9314_d882_11ea_87aa_0242ac1c0002row4_col4 {\n",
              "            background-color:  #b40426;\n",
              "            color:  #f1f1f1;\n",
              "        }    #T_b4ac9314_d882_11ea_87aa_0242ac1c0002row4_col5 {\n",
              "            background-color:  #f59f80;\n",
              "            color:  #000000;\n",
              "        }    #T_b4ac9314_d882_11ea_87aa_0242ac1c0002row4_col6 {\n",
              "            background-color:  #a7c5fe;\n",
              "            color:  #000000;\n",
              "        }    #T_b4ac9314_d882_11ea_87aa_0242ac1c0002row4_col7 {\n",
              "            background-color:  #c6d6f1;\n",
              "            color:  #000000;\n",
              "        }    #T_b4ac9314_d882_11ea_87aa_0242ac1c0002row4_col8 {\n",
              "            background-color:  #516ddb;\n",
              "            color:  #000000;\n",
              "        }    #T_b4ac9314_d882_11ea_87aa_0242ac1c0002row4_col9 {\n",
              "            background-color:  #96b7ff;\n",
              "            color:  #000000;\n",
              "        }    #T_b4ac9314_d882_11ea_87aa_0242ac1c0002row5_col0 {\n",
              "            background-color:  #b3cdfb;\n",
              "            color:  #000000;\n",
              "        }    #T_b4ac9314_d882_11ea_87aa_0242ac1c0002row5_col1 {\n",
              "            background-color:  #c7d7f0;\n",
              "            color:  #000000;\n",
              "        }    #T_b4ac9314_d882_11ea_87aa_0242ac1c0002row5_col2 {\n",
              "            background-color:  #c0d4f5;\n",
              "            color:  #000000;\n",
              "        }    #T_b4ac9314_d882_11ea_87aa_0242ac1c0002row5_col3 {\n",
              "            background-color:  #97b8ff;\n",
              "            color:  #000000;\n",
              "        }    #T_b4ac9314_d882_11ea_87aa_0242ac1c0002row5_col4 {\n",
              "            background-color:  #f7a98b;\n",
              "            color:  #000000;\n",
              "        }    #T_b4ac9314_d882_11ea_87aa_0242ac1c0002row5_col5 {\n",
              "            background-color:  #b40426;\n",
              "            color:  #f1f1f1;\n",
              "        }    #T_b4ac9314_d882_11ea_87aa_0242ac1c0002row5_col6 {\n",
              "            background-color:  #c0d4f5;\n",
              "            color:  #000000;\n",
              "        }    #T_b4ac9314_d882_11ea_87aa_0242ac1c0002row5_col7 {\n",
              "            background-color:  #afcafc;\n",
              "            color:  #000000;\n",
              "        }    #T_b4ac9314_d882_11ea_87aa_0242ac1c0002row5_col8 {\n",
              "            background-color:  #5673e0;\n",
              "            color:  #000000;\n",
              "        }    #T_b4ac9314_d882_11ea_87aa_0242ac1c0002row5_col9 {\n",
              "            background-color:  #7396f5;\n",
              "            color:  #000000;\n",
              "        }    #T_b4ac9314_d882_11ea_87aa_0242ac1c0002row6_col0 {\n",
              "            background-color:  #f08a6c;\n",
              "            color:  #000000;\n",
              "        }    #T_b4ac9314_d882_11ea_87aa_0242ac1c0002row6_col1 {\n",
              "            background-color:  #aec9fc;\n",
              "            color:  #000000;\n",
              "        }    #T_b4ac9314_d882_11ea_87aa_0242ac1c0002row6_col2 {\n",
              "            background-color:  #f1cdba;\n",
              "            color:  #000000;\n",
              "        }    #T_b4ac9314_d882_11ea_87aa_0242ac1c0002row6_col3 {\n",
              "            background-color:  #b1cbfc;\n",
              "            color:  #000000;\n",
              "        }    #T_b4ac9314_d882_11ea_87aa_0242ac1c0002row6_col4 {\n",
              "            background-color:  #5673e0;\n",
              "            color:  #000000;\n",
              "        }    #T_b4ac9314_d882_11ea_87aa_0242ac1c0002row6_col5 {\n",
              "            background-color:  #94b6ff;\n",
              "            color:  #000000;\n",
              "        }    #T_b4ac9314_d882_11ea_87aa_0242ac1c0002row6_col6 {\n",
              "            background-color:  #b40426;\n",
              "            color:  #f1f1f1;\n",
              "        }    #T_b4ac9314_d882_11ea_87aa_0242ac1c0002row6_col7 {\n",
              "            background-color:  #7a9df8;\n",
              "            color:  #000000;\n",
              "        }    #T_b4ac9314_d882_11ea_87aa_0242ac1c0002row6_col8 {\n",
              "            background-color:  #7295f4;\n",
              "            color:  #000000;\n",
              "        }    #T_b4ac9314_d882_11ea_87aa_0242ac1c0002row6_col9 {\n",
              "            background-color:  #3b4cc0;\n",
              "            color:  #f1f1f1;\n",
              "        }    #T_b4ac9314_d882_11ea_87aa_0242ac1c0002row7_col0 {\n",
              "            background-color:  #3b4cc0;\n",
              "            color:  #f1f1f1;\n",
              "        }    #T_b4ac9314_d882_11ea_87aa_0242ac1c0002row7_col1 {\n",
              "            background-color:  #e1dad6;\n",
              "            color:  #000000;\n",
              "        }    #T_b4ac9314_d882_11ea_87aa_0242ac1c0002row7_col2 {\n",
              "            background-color:  #4358cb;\n",
              "            color:  #f1f1f1;\n",
              "        }    #T_b4ac9314_d882_11ea_87aa_0242ac1c0002row7_col3 {\n",
              "            background-color:  #3b4cc0;\n",
              "            color:  #f1f1f1;\n",
              "        }    #T_b4ac9314_d882_11ea_87aa_0242ac1c0002row7_col4 {\n",
              "            background-color:  #6485ec;\n",
              "            color:  #000000;\n",
              "        }    #T_b4ac9314_d882_11ea_87aa_0242ac1c0002row7_col5 {\n",
              "            background-color:  #5e7de7;\n",
              "            color:  #000000;\n",
              "        }    #T_b4ac9314_d882_11ea_87aa_0242ac1c0002row7_col6 {\n",
              "            background-color:  #5b7ae5;\n",
              "            color:  #000000;\n",
              "        }    #T_b4ac9314_d882_11ea_87aa_0242ac1c0002row7_col7 {\n",
              "            background-color:  #b40426;\n",
              "            color:  #f1f1f1;\n",
              "        }    #T_b4ac9314_d882_11ea_87aa_0242ac1c0002row7_col8 {\n",
              "            background-color:  #5572df;\n",
              "            color:  #000000;\n",
              "        }    #T_b4ac9314_d882_11ea_87aa_0242ac1c0002row7_col9 {\n",
              "            background-color:  #cfdaea;\n",
              "            color:  #000000;\n",
              "        }    #T_b4ac9314_d882_11ea_87aa_0242ac1c0002row8_col0 {\n",
              "            background-color:  #d2dbe8;\n",
              "            color:  #000000;\n",
              "        }    #T_b4ac9314_d882_11ea_87aa_0242ac1c0002row8_col1 {\n",
              "            background-color:  #9ebeff;\n",
              "            color:  #000000;\n",
              "        }    #T_b4ac9314_d882_11ea_87aa_0242ac1c0002row8_col2 {\n",
              "            background-color:  #d5dbe5;\n",
              "            color:  #000000;\n",
              "        }    #T_b4ac9314_d882_11ea_87aa_0242ac1c0002row8_col3 {\n",
              "            background-color:  #506bda;\n",
              "            color:  #000000;\n",
              "        }    #T_b4ac9314_d882_11ea_87aa_0242ac1c0002row8_col4 {\n",
              "            background-color:  #536edd;\n",
              "            color:  #000000;\n",
              "        }    #T_b4ac9314_d882_11ea_87aa_0242ac1c0002row8_col5 {\n",
              "            background-color:  #7597f6;\n",
              "            color:  #000000;\n",
              "        }    #T_b4ac9314_d882_11ea_87aa_0242ac1c0002row8_col6 {\n",
              "            background-color:  #bcd2f7;\n",
              "            color:  #000000;\n",
              "        }    #T_b4ac9314_d882_11ea_87aa_0242ac1c0002row8_col7 {\n",
              "            background-color:  #bfd3f6;\n",
              "            color:  #000000;\n",
              "        }    #T_b4ac9314_d882_11ea_87aa_0242ac1c0002row8_col8 {\n",
              "            background-color:  #b40426;\n",
              "            color:  #f1f1f1;\n",
              "        }    #T_b4ac9314_d882_11ea_87aa_0242ac1c0002row8_col9 {\n",
              "            background-color:  #bad0f8;\n",
              "            color:  #000000;\n",
              "        }    #T_b4ac9314_d882_11ea_87aa_0242ac1c0002row9_col0 {\n",
              "            background-color:  #aac7fd;\n",
              "            color:  #000000;\n",
              "        }    #T_b4ac9314_d882_11ea_87aa_0242ac1c0002row9_col1 {\n",
              "            background-color:  #88abfd;\n",
              "            color:  #000000;\n",
              "        }    #T_b4ac9314_d882_11ea_87aa_0242ac1c0002row9_col2 {\n",
              "            background-color:  #c6d6f1;\n",
              "            color:  #000000;\n",
              "        }    #T_b4ac9314_d882_11ea_87aa_0242ac1c0002row9_col3 {\n",
              "            background-color:  #5977e3;\n",
              "            color:  #000000;\n",
              "        }    #T_b4ac9314_d882_11ea_87aa_0242ac1c0002row9_col4 {\n",
              "            background-color:  #4257c9;\n",
              "            color:  #f1f1f1;\n",
              "        }    #T_b4ac9314_d882_11ea_87aa_0242ac1c0002row9_col5 {\n",
              "            background-color:  #3b4cc0;\n",
              "            color:  #f1f1f1;\n",
              "        }    #T_b4ac9314_d882_11ea_87aa_0242ac1c0002row9_col6 {\n",
              "            background-color:  #3b4cc0;\n",
              "            color:  #f1f1f1;\n",
              "        }    #T_b4ac9314_d882_11ea_87aa_0242ac1c0002row9_col7 {\n",
              "            background-color:  #dedcdb;\n",
              "            color:  #000000;\n",
              "        }    #T_b4ac9314_d882_11ea_87aa_0242ac1c0002row9_col8 {\n",
              "            background-color:  #6e90f2;\n",
              "            color:  #000000;\n",
              "        }    #T_b4ac9314_d882_11ea_87aa_0242ac1c0002row9_col9 {\n",
              "            background-color:  #b40426;\n",
              "            color:  #f1f1f1;\n",
              "        }</style><table id=\"T_b4ac9314_d882_11ea_87aa_0242ac1c0002\" ><thead>    <tr>        <th class=\"blank level0\" ></th>        <th class=\"col_heading level0 col0\" >Allied_Nations</th>        <th class=\"col_heading level0 col1\" >Diplomatic_Meetings_Set</th>        <th class=\"col_heading level0 col2\" >Percent_Of_Forces_Mobilized</th>        <th class=\"col_heading level0 col3\" >Hostile_Nations</th>        <th class=\"col_heading level0 col4\" >Active_Threats</th>        <th class=\"col_heading level0 col5\" >Inactive_Threats</th>        <th class=\"col_heading level0 col6\" >Citizen_Fear_Index</th>        <th class=\"col_heading level0 col7\" >Closest_Threat_Distance(km)</th>        <th class=\"col_heading level0 col8\" >Aircraft_Carriers_Responding</th>        <th class=\"col_heading level0 col9\" >Troops_Mobilized(thousands)</th>    </tr></thead><tbody>\n",
              "                <tr>\n",
              "                        <th id=\"T_b4ac9314_d882_11ea_87aa_0242ac1c0002level0_row0\" class=\"row_heading level0 row0\" >Allied_Nations</th>\n",
              "                        <td id=\"T_b4ac9314_d882_11ea_87aa_0242ac1c0002row0_col0\" class=\"data row0 col0\" >1.000000</td>\n",
              "                        <td id=\"T_b4ac9314_d882_11ea_87aa_0242ac1c0002row0_col1\" class=\"data row0 col1\" >-0.278779</td>\n",
              "                        <td id=\"T_b4ac9314_d882_11ea_87aa_0242ac1c0002row0_col2\" class=\"data row0 col2\" >0.650308</td>\n",
              "                        <td id=\"T_b4ac9314_d882_11ea_87aa_0242ac1c0002row0_col3\" class=\"data row0 col3\" >0.111896</td>\n",
              "                        <td id=\"T_b4ac9314_d882_11ea_87aa_0242ac1c0002row0_col4\" class=\"data row0 col4\" >-0.113609</td>\n",
              "                        <td id=\"T_b4ac9314_d882_11ea_87aa_0242ac1c0002row0_col5\" class=\"data row0 col5\" >-0.067496</td>\n",
              "                        <td id=\"T_b4ac9314_d882_11ea_87aa_0242ac1c0002row0_col6\" class=\"data row0 col6\" >0.647604</td>\n",
              "                        <td id=\"T_b4ac9314_d882_11ea_87aa_0242ac1c0002row0_col7\" class=\"data row0 col7\" >-0.668521</td>\n",
              "                        <td id=\"T_b4ac9314_d882_11ea_87aa_0242ac1c0002row0_col8\" class=\"data row0 col8\" >0.096352</td>\n",
              "                        <td id=\"T_b4ac9314_d882_11ea_87aa_0242ac1c0002row0_col9\" class=\"data row0 col9\" >-0.110071</td>\n",
              "            </tr>\n",
              "            <tr>\n",
              "                        <th id=\"T_b4ac9314_d882_11ea_87aa_0242ac1c0002level0_row1\" class=\"row_heading level0 row1\" >Diplomatic_Meetings_Set</th>\n",
              "                        <td id=\"T_b4ac9314_d882_11ea_87aa_0242ac1c0002row1_col0\" class=\"data row1 col0\" >-0.278779</td>\n",
              "                        <td id=\"T_b4ac9314_d882_11ea_87aa_0242ac1c0002row1_col1\" class=\"data row1 col1\" >1.000000</td>\n",
              "                        <td id=\"T_b4ac9314_d882_11ea_87aa_0242ac1c0002row1_col2\" class=\"data row1 col2\" >-0.576116</td>\n",
              "                        <td id=\"T_b4ac9314_d882_11ea_87aa_0242ac1c0002row1_col3\" class=\"data row1 col3\" >-0.036662</td>\n",
              "                        <td id=\"T_b4ac9314_d882_11ea_87aa_0242ac1c0002row1_col4\" class=\"data row1 col4\" >0.019046</td>\n",
              "                        <td id=\"T_b4ac9314_d882_11ea_87aa_0242ac1c0002row1_col5\" class=\"data row1 col5\" >0.089007</td>\n",
              "                        <td id=\"T_b4ac9314_d882_11ea_87aa_0242ac1c0002row1_col6\" class=\"data row1 col6\" >-0.030756</td>\n",
              "                        <td id=\"T_b4ac9314_d882_11ea_87aa_0242ac1c0002row1_col7\" class=\"data row1 col7\" >0.241155</td>\n",
              "                        <td id=\"T_b4ac9314_d882_11ea_87aa_0242ac1c0002row1_col8\" class=\"data row1 col8\" >-0.106499</td>\n",
              "                        <td id=\"T_b4ac9314_d882_11ea_87aa_0242ac1c0002row1_col9\" class=\"data row1 col9\" >-0.201561</td>\n",
              "            </tr>\n",
              "            <tr>\n",
              "                        <th id=\"T_b4ac9314_d882_11ea_87aa_0242ac1c0002level0_row2\" class=\"row_heading level0 row2\" >Percent_Of_Forces_Mobilized</th>\n",
              "                        <td id=\"T_b4ac9314_d882_11ea_87aa_0242ac1c0002row2_col0\" class=\"data row2 col0\" >0.650308</td>\n",
              "                        <td id=\"T_b4ac9314_d882_11ea_87aa_0242ac1c0002row2_col1\" class=\"data row2 col1\" >-0.576116</td>\n",
              "                        <td id=\"T_b4ac9314_d882_11ea_87aa_0242ac1c0002row2_col2\" class=\"data row2 col2\" >1.000000</td>\n",
              "                        <td id=\"T_b4ac9314_d882_11ea_87aa_0242ac1c0002row2_col3\" class=\"data row2 col3\" >0.149317</td>\n",
              "                        <td id=\"T_b4ac9314_d882_11ea_87aa_0242ac1c0002row2_col4\" class=\"data row2 col4\" >-0.036675</td>\n",
              "                        <td id=\"T_b4ac9314_d882_11ea_87aa_0242ac1c0002row2_col5\" class=\"data row2 col5\" >0.054474</td>\n",
              "                        <td id=\"T_b4ac9314_d882_11ea_87aa_0242ac1c0002row2_col6\" class=\"data row2 col6\" >0.357324</td>\n",
              "                        <td id=\"T_b4ac9314_d882_11ea_87aa_0242ac1c0002row2_col7\" class=\"data row2 col7\" >-0.529314</td>\n",
              "                        <td id=\"T_b4ac9314_d882_11ea_87aa_0242ac1c0002row2_col8\" class=\"data row2 col8\" >0.166989</td>\n",
              "                        <td id=\"T_b4ac9314_d882_11ea_87aa_0242ac1c0002row2_col9\" class=\"data row2 col9\" >0.085870</td>\n",
              "            </tr>\n",
              "            <tr>\n",
              "                        <th id=\"T_b4ac9314_d882_11ea_87aa_0242ac1c0002level0_row3\" class=\"row_heading level0 row3\" >Hostile_Nations</th>\n",
              "                        <td id=\"T_b4ac9314_d882_11ea_87aa_0242ac1c0002row3_col0\" class=\"data row3 col0\" >0.111896</td>\n",
              "                        <td id=\"T_b4ac9314_d882_11ea_87aa_0242ac1c0002row3_col1\" class=\"data row3 col1\" >-0.036662</td>\n",
              "                        <td id=\"T_b4ac9314_d882_11ea_87aa_0242ac1c0002row3_col2\" class=\"data row3 col2\" >0.149317</td>\n",
              "                        <td id=\"T_b4ac9314_d882_11ea_87aa_0242ac1c0002row3_col3\" class=\"data row3 col3\" >1.000000</td>\n",
              "                        <td id=\"T_b4ac9314_d882_11ea_87aa_0242ac1c0002row3_col4\" class=\"data row3 col4\" >0.146773</td>\n",
              "                        <td id=\"T_b4ac9314_d882_11ea_87aa_0242ac1c0002row3_col5\" class=\"data row3 col5\" >0.220252</td>\n",
              "                        <td id=\"T_b4ac9314_d882_11ea_87aa_0242ac1c0002row3_col6\" class=\"data row3 col6\" >0.299244</td>\n",
              "                        <td id=\"T_b4ac9314_d882_11ea_87aa_0242ac1c0002row3_col7\" class=\"data row3 col7\" >-0.081724</td>\n",
              "                        <td id=\"T_b4ac9314_d882_11ea_87aa_0242ac1c0002row3_col8\" class=\"data row3 col8\" >-0.004865</td>\n",
              "                        <td id=\"T_b4ac9314_d882_11ea_87aa_0242ac1c0002row3_col9\" class=\"data row3 col9\" >0.025103</td>\n",
              "            </tr>\n",
              "            <tr>\n",
              "                        <th id=\"T_b4ac9314_d882_11ea_87aa_0242ac1c0002level0_row4\" class=\"row_heading level0 row4\" >Active_Threats</th>\n",
              "                        <td id=\"T_b4ac9314_d882_11ea_87aa_0242ac1c0002row4_col0\" class=\"data row4 col0\" >-0.113609</td>\n",
              "                        <td id=\"T_b4ac9314_d882_11ea_87aa_0242ac1c0002row4_col1\" class=\"data row4 col1\" >0.019046</td>\n",
              "                        <td id=\"T_b4ac9314_d882_11ea_87aa_0242ac1c0002row4_col2\" class=\"data row4 col2\" >-0.036675</td>\n",
              "                        <td id=\"T_b4ac9314_d882_11ea_87aa_0242ac1c0002row4_col3\" class=\"data row4 col3\" >0.146773</td>\n",
              "                        <td id=\"T_b4ac9314_d882_11ea_87aa_0242ac1c0002row4_col4\" class=\"data row4 col4\" >1.000000</td>\n",
              "                        <td id=\"T_b4ac9314_d882_11ea_87aa_0242ac1c0002row4_col5\" class=\"data row4 col5\" >0.674970</td>\n",
              "                        <td id=\"T_b4ac9314_d882_11ea_87aa_0242ac1c0002row4_col6\" class=\"data row4 col6\" >-0.009510</td>\n",
              "                        <td id=\"T_b4ac9314_d882_11ea_87aa_0242ac1c0002row4_col7\" class=\"data row4 col7\" >0.034700</td>\n",
              "                        <td id=\"T_b4ac9314_d882_11ea_87aa_0242ac1c0002row4_col8\" class=\"data row4 col8\" >-0.023317</td>\n",
              "                        <td id=\"T_b4ac9314_d882_11ea_87aa_0242ac1c0002row4_col9\" class=\"data row4 col9\" >-0.084188</td>\n",
              "            </tr>\n",
              "            <tr>\n",
              "                        <th id=\"T_b4ac9314_d882_11ea_87aa_0242ac1c0002level0_row5\" class=\"row_heading level0 row5\" >Inactive_Threats</th>\n",
              "                        <td id=\"T_b4ac9314_d882_11ea_87aa_0242ac1c0002row5_col0\" class=\"data row5 col0\" >-0.067496</td>\n",
              "                        <td id=\"T_b4ac9314_d882_11ea_87aa_0242ac1c0002row5_col1\" class=\"data row5 col1\" >0.089007</td>\n",
              "                        <td id=\"T_b4ac9314_d882_11ea_87aa_0242ac1c0002row5_col2\" class=\"data row5 col2\" >0.054474</td>\n",
              "                        <td id=\"T_b4ac9314_d882_11ea_87aa_0242ac1c0002row5_col3\" class=\"data row5 col3\" >0.220252</td>\n",
              "                        <td id=\"T_b4ac9314_d882_11ea_87aa_0242ac1c0002row5_col4\" class=\"data row5 col4\" >0.674970</td>\n",
              "                        <td id=\"T_b4ac9314_d882_11ea_87aa_0242ac1c0002row5_col5\" class=\"data row5 col5\" >1.000000</td>\n",
              "                        <td id=\"T_b4ac9314_d882_11ea_87aa_0242ac1c0002row5_col6\" class=\"data row5 col6\" >0.103296</td>\n",
              "                        <td id=\"T_b4ac9314_d882_11ea_87aa_0242ac1c0002row5_col7\" class=\"data row5 col7\" >-0.084670</td>\n",
              "                        <td id=\"T_b4ac9314_d882_11ea_87aa_0242ac1c0002row5_col8\" class=\"data row5 col8\" >-0.004199</td>\n",
              "                        <td id=\"T_b4ac9314_d882_11ea_87aa_0242ac1c0002row5_col9\" class=\"data row5 col9\" >-0.227941</td>\n",
              "            </tr>\n",
              "            <tr>\n",
              "                        <th id=\"T_b4ac9314_d882_11ea_87aa_0242ac1c0002level0_row6\" class=\"row_heading level0 row6\" >Citizen_Fear_Index</th>\n",
              "                        <td id=\"T_b4ac9314_d882_11ea_87aa_0242ac1c0002row6_col0\" class=\"data row6 col0\" >0.647604</td>\n",
              "                        <td id=\"T_b4ac9314_d882_11ea_87aa_0242ac1c0002row6_col1\" class=\"data row6 col1\" >-0.030756</td>\n",
              "                        <td id=\"T_b4ac9314_d882_11ea_87aa_0242ac1c0002row6_col2\" class=\"data row6 col2\" >0.357324</td>\n",
              "                        <td id=\"T_b4ac9314_d882_11ea_87aa_0242ac1c0002row6_col3\" class=\"data row6 col3\" >0.299244</td>\n",
              "                        <td id=\"T_b4ac9314_d882_11ea_87aa_0242ac1c0002row6_col4\" class=\"data row6 col4\" >-0.009510</td>\n",
              "                        <td id=\"T_b4ac9314_d882_11ea_87aa_0242ac1c0002row6_col5\" class=\"data row6 col5\" >0.103296</td>\n",
              "                        <td id=\"T_b4ac9314_d882_11ea_87aa_0242ac1c0002row6_col6\" class=\"data row6 col6\" >1.000000</td>\n",
              "                        <td id=\"T_b4ac9314_d882_11ea_87aa_0242ac1c0002row6_col7\" class=\"data row6 col7\" >-0.336929</td>\n",
              "                        <td id=\"T_b4ac9314_d882_11ea_87aa_0242ac1c0002row6_col8\" class=\"data row6 col8\" >0.085540</td>\n",
              "                        <td id=\"T_b4ac9314_d882_11ea_87aa_0242ac1c0002row6_col9\" class=\"data row6 col9\" >-0.495305</td>\n",
              "            </tr>\n",
              "            <tr>\n",
              "                        <th id=\"T_b4ac9314_d882_11ea_87aa_0242ac1c0002level0_row7\" class=\"row_heading level0 row7\" >Closest_Threat_Distance(km)</th>\n",
              "                        <td id=\"T_b4ac9314_d882_11ea_87aa_0242ac1c0002row7_col0\" class=\"data row7 col0\" >-0.668521</td>\n",
              "                        <td id=\"T_b4ac9314_d882_11ea_87aa_0242ac1c0002row7_col1\" class=\"data row7 col1\" >0.241155</td>\n",
              "                        <td id=\"T_b4ac9314_d882_11ea_87aa_0242ac1c0002row7_col2\" class=\"data row7 col2\" >-0.529314</td>\n",
              "                        <td id=\"T_b4ac9314_d882_11ea_87aa_0242ac1c0002row7_col3\" class=\"data row7 col3\" >-0.081724</td>\n",
              "                        <td id=\"T_b4ac9314_d882_11ea_87aa_0242ac1c0002row7_col4\" class=\"data row7 col4\" >0.034700</td>\n",
              "                        <td id=\"T_b4ac9314_d882_11ea_87aa_0242ac1c0002row7_col5\" class=\"data row7 col5\" >-0.084670</td>\n",
              "                        <td id=\"T_b4ac9314_d882_11ea_87aa_0242ac1c0002row7_col6\" class=\"data row7 col6\" >-0.336929</td>\n",
              "                        <td id=\"T_b4ac9314_d882_11ea_87aa_0242ac1c0002row7_col7\" class=\"data row7 col7\" >1.000000</td>\n",
              "                        <td id=\"T_b4ac9314_d882_11ea_87aa_0242ac1c0002row7_col8\" class=\"data row7 col8\" >-0.008636</td>\n",
              "                        <td id=\"T_b4ac9314_d882_11ea_87aa_0242ac1c0002row7_col9\" class=\"data row7 col9\" >0.177008</td>\n",
              "            </tr>\n",
              "            <tr>\n",
              "                        <th id=\"T_b4ac9314_d882_11ea_87aa_0242ac1c0002level0_row8\" class=\"row_heading level0 row8\" >Aircraft_Carriers_Responding</th>\n",
              "                        <td id=\"T_b4ac9314_d882_11ea_87aa_0242ac1c0002row8_col0\" class=\"data row8 col0\" >0.096352</td>\n",
              "                        <td id=\"T_b4ac9314_d882_11ea_87aa_0242ac1c0002row8_col1\" class=\"data row8 col1\" >-0.106499</td>\n",
              "                        <td id=\"T_b4ac9314_d882_11ea_87aa_0242ac1c0002row8_col2\" class=\"data row8 col2\" >0.166989</td>\n",
              "                        <td id=\"T_b4ac9314_d882_11ea_87aa_0242ac1c0002row8_col3\" class=\"data row8 col3\" >-0.004865</td>\n",
              "                        <td id=\"T_b4ac9314_d882_11ea_87aa_0242ac1c0002row8_col4\" class=\"data row8 col4\" >-0.023317</td>\n",
              "                        <td id=\"T_b4ac9314_d882_11ea_87aa_0242ac1c0002row8_col5\" class=\"data row8 col5\" >-0.004199</td>\n",
              "                        <td id=\"T_b4ac9314_d882_11ea_87aa_0242ac1c0002row8_col6\" class=\"data row8 col6\" >0.085540</td>\n",
              "                        <td id=\"T_b4ac9314_d882_11ea_87aa_0242ac1c0002row8_col7\" class=\"data row8 col7\" >-0.008636</td>\n",
              "                        <td id=\"T_b4ac9314_d882_11ea_87aa_0242ac1c0002row8_col8\" class=\"data row8 col8\" >1.000000</td>\n",
              "                        <td id=\"T_b4ac9314_d882_11ea_87aa_0242ac1c0002row8_col9\" class=\"data row8 col9\" >0.073819</td>\n",
              "            </tr>\n",
              "            <tr>\n",
              "                        <th id=\"T_b4ac9314_d882_11ea_87aa_0242ac1c0002level0_row9\" class=\"row_heading level0 row9\" >Troops_Mobilized(thousands)</th>\n",
              "                        <td id=\"T_b4ac9314_d882_11ea_87aa_0242ac1c0002row9_col0\" class=\"data row9 col0\" >-0.110071</td>\n",
              "                        <td id=\"T_b4ac9314_d882_11ea_87aa_0242ac1c0002row9_col1\" class=\"data row9 col1\" >-0.201561</td>\n",
              "                        <td id=\"T_b4ac9314_d882_11ea_87aa_0242ac1c0002row9_col2\" class=\"data row9 col2\" >0.085870</td>\n",
              "                        <td id=\"T_b4ac9314_d882_11ea_87aa_0242ac1c0002row9_col3\" class=\"data row9 col3\" >0.025103</td>\n",
              "                        <td id=\"T_b4ac9314_d882_11ea_87aa_0242ac1c0002row9_col4\" class=\"data row9 col4\" >-0.084188</td>\n",
              "                        <td id=\"T_b4ac9314_d882_11ea_87aa_0242ac1c0002row9_col5\" class=\"data row9 col5\" >-0.227941</td>\n",
              "                        <td id=\"T_b4ac9314_d882_11ea_87aa_0242ac1c0002row9_col6\" class=\"data row9 col6\" >-0.495305</td>\n",
              "                        <td id=\"T_b4ac9314_d882_11ea_87aa_0242ac1c0002row9_col7\" class=\"data row9 col7\" >0.177008</td>\n",
              "                        <td id=\"T_b4ac9314_d882_11ea_87aa_0242ac1c0002row9_col8\" class=\"data row9 col8\" >0.073819</td>\n",
              "                        <td id=\"T_b4ac9314_d882_11ea_87aa_0242ac1c0002row9_col9\" class=\"data row9 col9\" >1.000000</td>\n",
              "            </tr>\n",
              "    </tbody></table>"
            ],
            "text/plain": [
              "<pandas.io.formats.style.Styler at 0x7f1f9193e908>"
            ]
          },
          "metadata": {
            "tags": []
          },
          "execution_count": 22
        }
      ]
    },
    {
      "cell_type": "code",
      "metadata": {
        "id": "dzZC7rZcJwVK",
        "colab": {
          "base_uri": "https://localhost:8080/",
          "height": 295
        },
        "outputId": "137668da-128d-4163-9923-576c2889368c"
      },
      "source": [
        "def compare_tree_based_models():\n",
        "    random_state = 2\n",
        "    classifiers = [SVC(random_state=random_state), DecisionTreeClassifier(random_state=random_state),\n",
        "                   AdaBoostClassifier(DecisionTreeClassifier(random_state=random_state), random_state=random_state,\n",
        "                                      learning_rate=0.1), RandomForestClassifier(random_state=random_state),\n",
        "                   ExtraTreesClassifier(random_state=random_state),\n",
        "                   GradientBoostingClassifier(random_state=random_state), MLPClassifier(random_state=random_state),\n",
        "                   KNeighborsClassifier(), LogisticRegression(random_state=random_state), LinearDiscriminantAnalysis()]\n",
        "\n",
        "    cv_results = []\n",
        "    for classifier in classifiers:\n",
        "        cv_results.append(cross_val_score(classifier, X_train, y=y_train, scoring=\"accuracy\", cv=4, n_jobs=4))\n",
        "\n",
        "    cv_means = []\n",
        "    cv_std = []\n",
        "    for cv_result in cv_results:\n",
        "        cv_means.append(cv_result.mean())\n",
        "        cv_std.append(cv_result.std())\n",
        "    cv_res = pd.DataFrame(\n",
        "        {\"CrossValMeans\": cv_means, \"CrossValerrors\": cv_std, \"Algorithm\": [\"SVC\", \"DecisionTree\", \"AdaBoost\",\n",
        "                                                                            \"RandomForest\", \"ExtraTrees\",\n",
        "                                                                            \"GradientBoosting\",\n",
        "                                                                            \"MultipleLayerPerceptron\", \"KNeighboors\",\n",
        "                                                                            \"LogisticRegression\",\n",
        "                                                                            \"LinearDiscriminantAnalysis\"]})\n",
        "\n",
        "    g = sns.barplot(\"CrossValMeans\", \"Algorithm\", data=cv_res, palette=\"Set3\", orient=\"h\", **{'xerr': cv_std})\n",
        "    g.set_xlabel(\"Mean Accuracy\")\n",
        "    g = g.set_title(\"Cross validation scores\")\n",
        "    plt.show()\n",
        "\n",
        "compare_tree_based_models()"
      ],
      "execution_count": null,
      "outputs": [
        {
          "output_type": "display_data",
          "data": {
            "image/png": "[encoded data removed]",
            "text/plain": [
              "<Figure size 432x288 with 1 Axes>"
            ]
          },
          "metadata": {
            "tags": [],
            "needs_background": "light"
          }
        }
      ]
    },
    {
      "cell_type": "code",
      "metadata": {
        "id": "7_K_Ukv2AewF"
      },
      "source": [
        "from sklearn import metrics\n",
        "from sklearn.metrics import mean_absolute_error\n",
        "from sklearn.metrics import accuracy_score\n",
        "from sklearn.metrics import confusion_matrix\n",
        "from sklearn.metrics import plot_confusion_matrix\n",
        "from sklearn.model_selection import train_test_split"
      ],
      "execution_count": null,
      "outputs": []
    },
    {
      "cell_type": "code",
      "metadata": {
        "id": "ypPkFjYiJwwy"
      },
      "source": [
        "parameter_train = test.columns\n",
        "X = train[parameter_train]\n",
        "Y = train['DEFCON_Level']"
      ],
      "execution_count": null,
      "outputs": []
    },
    {
      "cell_type": "code",
      "metadata": {
        "id": "we2HUS_oJw7z"
      },
      "source": [
        "#splitting into train and test set\n",
        "train_X,val_x,train_Y,val_y = train_test_split(X,Y,random_state =1)"
      ],
      "execution_count": null,
      "outputs": []
    },
    {
      "cell_type": "code",
      "metadata": {
        "id": "I_gyxFjYUbok",
        "colab": {
          "base_uri": "https://localhost:8080/",
          "height": 50
        },
        "outputId": "97a4d639-6506-4e2e-e8e7-8367c3ad9653"
      },
      "source": [
        "print(\"Number of data points in train data:\",train_X.shape)\n",
        "print(\"Number of data points in test data:\",val_x.shape)"
      ],
      "execution_count": null,
      "outputs": [
        {
          "output_type": "stream",
          "text": [
            "Number of data points in train data: (7500, 11)\n",
            "Number of data points in test data: (2500, 11)\n"
          ],
          "name": "stdout"
        }
      ]
    },
    {
      "cell_type": "code",
      "metadata": {
        "id": "CLVQit6uKJYx",
        "colab": {
          "base_uri": "https://localhost:8080/",
          "height": 151
        },
        "outputId": "312afebb-d3c2-449d-a9e2-a658da6f12a4"
      },
      "source": [
        "rfc_model = RandomForestClassifier(n_estimators = 500,random_state = 0)\n",
        "rfc_model.fit(train_X,train_Y)"
      ],
      "execution_count": null,
      "outputs": [
        {
          "output_type": "execute_result",
          "data": {
            "text/plain": [
              "RandomForestClassifier(bootstrap=True, ccp_alpha=0.0, class_weight=None,\n",
              "                       criterion='gini', max_depth=None, max_features='auto',\n",
              "                       max_leaf_nodes=None, max_samples=None,\n",
              "                       min_impurity_decrease=0.0, min_impurity_split=None,\n",
              "                       min_samples_leaf=1, min_samples_split=2,\n",
              "                       min_weight_fraction_leaf=0.0, n_estimators=500,\n",
              "                       n_jobs=None, oob_score=False, random_state=0, verbose=0,\n",
              "                       warm_start=False)"
            ]
          },
          "metadata": {
            "tags": []
          },
          "execution_count": 28
        }
      ]
    },
    {
      "cell_type": "code",
      "metadata": {
        "id": "EBXBv8GpCyx1",
        "colab": {
          "base_uri": "https://localhost:8080/",
          "height": 118
        },
        "outputId": "13a76e62-3663-4de2-acf9-b5577c0f21b4"
      },
      "source": [
        "print(mean_absolute_error(rfc_model.predict(val_x),val_y))\n",
        "array=confusion_matrix(rfc_model.predict(val_x),val_y)\n",
        "print(confusion_matrix(rfc_model.predict(val_x),val_y))\n"
      ],
      "execution_count": null,
      "outputs": [
        {
          "output_type": "stream",
          "text": [
            "0.4108\n",
            "[[ 15  13   2   1   0]\n",
            " [ 75 771 287  22   1]\n",
            " [ 25 248 637 161   7]\n",
            " [  2  16  74 132  10]\n",
            " [  0   1   0   0   0]]\n"
          ],
          "name": "stdout"
        }
      ]
    },
    {
      "cell_type": "code",
      "metadata": {
        "id": "ECXwqcttKJjW",
        "colab": {
          "base_uri": "https://localhost:8080/",
          "height": 34
        },
        "outputId": "0219127d-7cbb-4029-988f-fb05f7e53027"
      },
      "source": [
        "print(\"Random Forest model accuracy(in %):\", metrics.accuracy_score(val_y,rfc_model.predict(val_x))*100)"
      ],
      "execution_count": null,
      "outputs": [
        {
          "output_type": "stream",
          "text": [
            "Random Forest model accuracy(in %): 62.2\n"
          ],
          "name": "stdout"
        }
      ]
    },
    {
      "cell_type": "code",
      "metadata": {
        "id": "_OLroIjvP32X",
        "colab": {
          "base_uri": "https://localhost:8080/",
          "height": 67
        },
        "outputId": "7e6bfdcb-7711-4202-dff6-107b17baae8e"
      },
      "source": [
        "KNN = KNeighborsClassifier(n_neighbors = 30)\n",
        "KNN.fit(train_X,train_Y)"
      ],
      "execution_count": null,
      "outputs": [
        {
          "output_type": "execute_result",
          "data": {
            "text/plain": [
              "KNeighborsClassifier(algorithm='auto', leaf_size=30, metric='minkowski',\n",
              "                     metric_params=None, n_jobs=None, n_neighbors=30, p=2,\n",
              "                     weights='uniform')"
            ]
          },
          "metadata": {
            "tags": []
          },
          "execution_count": 31
        }
      ]
    },
    {
      "cell_type": "code",
      "metadata": {
        "id": "O-5c-LWAKJu5",
        "colab": {
          "base_uri": "https://localhost:8080/",
          "height": 118
        },
        "outputId": "54c73086-8775-4dc2-afa3-24410703fd36"
      },
      "source": [
        "print(mean_absolute_error(KNN.predict(val_x),val_y))\n",
        "print(confusion_matrix(KNN.predict(val_x),val_y))\n"
      ],
      "execution_count": null,
      "outputs": [
        {
          "output_type": "stream",
          "text": [
            "0.5192\n",
            "[[  0   0   0   0   0]\n",
            " [ 68 737 408  35   5]\n",
            " [ 46 299 543 238  11]\n",
            " [  3  13  49  43   2]\n",
            " [  0   0   0   0   0]]\n"
          ],
          "name": "stdout"
        }
      ]
    },
    {
      "cell_type": "code",
      "metadata": {
        "id": "G855nuY1Bi6u",
        "colab": {
          "base_uri": "https://localhost:8080/",
          "height": 50
        },
        "outputId": "c5eb33e6-50ef-403e-ad42-89e2f9ab9e26"
      },
      "source": [
        "print(\"\\n KNN model accuracy(in %):\", metrics.accuracy_score(val_y,KNN.predict(val_x))*100)"
      ],
      "execution_count": null,
      "outputs": [
        {
          "output_type": "stream",
          "text": [
            "\n",
            " KNN model accuracy(in %): 52.92\n"
          ],
          "name": "stdout"
        }
      ]
    },
    {
      "cell_type": "code",
      "metadata": {
        "id": "ry52283_QBZ7",
        "colab": {
          "base_uri": "https://localhost:8080/",
          "height": 118
        },
        "outputId": "19575707-a554-4035-c3f4-bcece8051368"
      },
      "source": [
        "DTC = DecisionTreeClassifier(min_samples_split=100,random_state = 0)\n",
        "DTC.fit(train_X,train_Y)"
      ],
      "execution_count": null,
      "outputs": [
        {
          "output_type": "execute_result",
          "data": {
            "text/plain": [
              "DecisionTreeClassifier(ccp_alpha=0.0, class_weight=None, criterion='gini',\n",
              "                       max_depth=None, max_features=None, max_leaf_nodes=None,\n",
              "                       min_impurity_decrease=0.0, min_impurity_split=None,\n",
              "                       min_samples_leaf=1, min_samples_split=100,\n",
              "                       min_weight_fraction_leaf=0.0, presort='deprecated',\n",
              "                       random_state=0, splitter='best')"
            ]
          },
          "metadata": {
            "tags": []
          },
          "execution_count": 35
        }
      ]
    },
    {
      "cell_type": "code",
      "metadata": {
        "id": "siJ71slnH2U1",
        "colab": {
          "base_uri": "https://localhost:8080/",
          "height": 118
        },
        "outputId": "7061669c-85e9-4a87-cfd4-96b54d9dd270"
      },
      "source": [
        "print(mean_absolute_error(DTC.predict(val_x),val_y))\n",
        "print(confusion_matrix(DTC.predict(val_x),val_y))"
      ],
      "execution_count": null,
      "outputs": [
        {
          "output_type": "stream",
          "text": [
            "0.406\n",
            "[[ 11  11   1   0   0]\n",
            " [ 70 744 244  28   2]\n",
            " [ 33 274 678 140   4]\n",
            " [  3  20  77 148  12]\n",
            " [  0   0   0   0   0]]\n"
          ],
          "name": "stdout"
        }
      ]
    },
    {
      "cell_type": "code",
      "metadata": {
        "id": "3Y5wnbmiHr7B",
        "colab": {
          "base_uri": "https://localhost:8080/",
          "height": 50
        },
        "outputId": "28af2d82-7bb1-4ef7-8248-e32cbb6b228e"
      },
      "source": [
        "print(\"\\n DecisionTreeClassifier model accuracy(in %):\", metrics.accuracy_score(val_y,DTC.predict(val_x))*100)"
      ],
      "execution_count": null,
      "outputs": [
        {
          "output_type": "stream",
          "text": [
            "\n",
            " DecisionTreeClassifier model accuracy(in %): 63.239999999999995\n"
          ],
          "name": "stdout"
        }
      ]
    },
    {
      "cell_type": "code",
      "metadata": {
        "id": "j539CJAmQDt0"
      },
      "source": [
        "preds = np.round(DTC.predict(test))\n",
        "output = pd.DataFrame({\"ID\": test.ID,\"DEFCON_Level\": preds })\n",
        "output.to_csv(\"mini-defcon.csv\",index = False)"
      ],
      "execution_count": null,
      "outputs": []
    },
    {
      "cell_type": "code",
      "metadata": {
        "id": "vRu6ow1GQD9c"
      },
      "source": [],
      "execution_count": null,
      "outputs": []
    }
  ]
}